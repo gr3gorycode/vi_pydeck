{
 "cells": [
  {
   "cell_type": "code",
   "execution_count": 5,
   "id": "34626c1c-f235-4da8-94ea-9f906e42d7f6",
   "metadata": {},
   "outputs": [],
   "source": [
    "import ee, eemont\n",
    "import numpy as np\n",
    "import pandas as pd\n",
    "import geopandas as gpd\n",
    "import matplotlib.pyplot as plt\n",
    "import pydeck as pdk\n",
    "import folium"
   ]
  },
  {
   "cell_type": "code",
   "execution_count": 3,
   "id": "90ab877b-c08e-4450-99b7-595281153624",
   "metadata": {},
   "outputs": [],
   "source": [
    "## Trigger the authentication flow. You only need to do this once\n",
    "service_account = 'gjo-scot@gjo-dh.iam.gserviceaccount.com'\n",
    "credentials = ee.ServiceAccountCredentials(service_account, 'gjo-dh-e544789a4b5e.json')\n",
    "ee.Initialize(credentials)"
   ]
  },
  {
   "cell_type": "code",
   "execution_count": 6,
   "id": "a8a0a448-afe7-4385-9cdb-ff07883675d2",
   "metadata": {},
   "outputs": [],
   "source": [
    "# Define a method for displaying Earth Engine image tiles to folium map.\n",
    "def add_ee_layer(self, ee_image_object, vis_params, name):\n",
    "    map_id_dict = ee.Image(ee_image_object).getMapId(vis_params)\n",
    "    folium.raster_layers.TileLayer(\n",
    "        tiles = map_id_dict['tile_fetcher'].url_format,\n",
    "        attr = 'Map Data &copy; <a href=\"https://earthengine.google.com/\">Google Earth Engine</a>',\n",
    "        name = name,\n",
    "        overlay = True,\n",
    "        control = True\n",
    "    ).add_to(self)\n",
    "\n",
    "# Add EE drawing method to folium.\n",
    "folium.Map.add_ee_layer = add_ee_layer"
   ]
  },
  {
   "cell_type": "code",
   "execution_count": 8,
   "id": "f5d3b6bc-b6bd-4a6d-94f4-b5f0248a6036",
   "metadata": {},
   "outputs": [],
   "source": [
    "dataset = ee.ImageCollection('AAFC/ACI')\n",
    "crop2016 = (dataset\n",
    "    .filter(ee.Filter.date('2016-01-01', '2016-12-31'))\n",
    "    .first())"
   ]
  },
  {
   "cell_type": "code",
   "execution_count": 14,
   "id": "14e8f85e-0f77-4ab2-9794-297867d181f5",
   "metadata": {},
   "outputs": [
    {
     "data": {
      "text/html": [
       "<div style=\"width:100%;\"><div style=\"position:relative;width:100%;height:0;padding-bottom:60%;\"><span style=\"color:#565656\">Make this Notebook Trusted to load map: File -> Trust Notebook</span><iframe src=\"about:blank\" style=\"position:absolute;width:100%;height:100%;left:0;top:0;border:none !important;\" data-html=%3C%21DOCTYPE%20html%3E%0A%3Chead%3E%20%20%20%20%0A%20%20%20%20%3Cmeta%20http-equiv%3D%22content-type%22%20content%3D%22text/html%3B%20charset%3DUTF-8%22%20/%3E%0A%20%20%20%20%0A%20%20%20%20%20%20%20%20%3Cscript%3E%0A%20%20%20%20%20%20%20%20%20%20%20%20L_NO_TOUCH%20%3D%20false%3B%0A%20%20%20%20%20%20%20%20%20%20%20%20L_DISABLE_3D%20%3D%20false%3B%0A%20%20%20%20%20%20%20%20%3C/script%3E%0A%20%20%20%20%0A%20%20%20%20%3Cscript%20src%3D%22https%3A//cdn.jsdelivr.net/npm/leaflet%401.6.0/dist/leaflet.js%22%3E%3C/script%3E%0A%20%20%20%20%3Cscript%20src%3D%22https%3A//code.jquery.com/jquery-1.12.4.min.js%22%3E%3C/script%3E%0A%20%20%20%20%3Cscript%20src%3D%22https%3A//maxcdn.bootstrapcdn.com/bootstrap/3.2.0/js/bootstrap.min.js%22%3E%3C/script%3E%0A%20%20%20%20%3Cscript%20src%3D%22https%3A//cdnjs.cloudflare.com/ajax/libs/Leaflet.awesome-markers/2.0.2/leaflet.awesome-markers.js%22%3E%3C/script%3E%0A%20%20%20%20%3Clink%20rel%3D%22stylesheet%22%20href%3D%22https%3A//cdn.jsdelivr.net/npm/leaflet%401.6.0/dist/leaflet.css%22/%3E%0A%20%20%20%20%3Clink%20rel%3D%22stylesheet%22%20href%3D%22https%3A//maxcdn.bootstrapcdn.com/bootstrap/3.2.0/css/bootstrap.min.css%22/%3E%0A%20%20%20%20%3Clink%20rel%3D%22stylesheet%22%20href%3D%22https%3A//maxcdn.bootstrapcdn.com/bootstrap/3.2.0/css/bootstrap-theme.min.css%22/%3E%0A%20%20%20%20%3Clink%20rel%3D%22stylesheet%22%20href%3D%22https%3A//maxcdn.bootstrapcdn.com/font-awesome/4.6.3/css/font-awesome.min.css%22/%3E%0A%20%20%20%20%3Clink%20rel%3D%22stylesheet%22%20href%3D%22https%3A//cdnjs.cloudflare.com/ajax/libs/Leaflet.awesome-markers/2.0.2/leaflet.awesome-markers.css%22/%3E%0A%20%20%20%20%3Clink%20rel%3D%22stylesheet%22%20href%3D%22https%3A//rawcdn.githack.com/python-visualization/folium/master/folium/templates/leaflet.awesome.rotate.css%22/%3E%0A%20%20%20%20%3Cstyle%3Ehtml%2C%20body%20%7Bwidth%3A%20100%25%3Bheight%3A%20100%25%3Bmargin%3A%200%3Bpadding%3A%200%3B%7D%3C/style%3E%0A%20%20%20%20%3Cstyle%3E%23map%20%7Bposition%3Aabsolute%3Btop%3A0%3Bbottom%3A0%3Bright%3A0%3Bleft%3A0%3B%7D%3C/style%3E%0A%20%20%20%20%0A%20%20%20%20%20%20%20%20%20%20%20%20%3Cmeta%20name%3D%22viewport%22%20content%3D%22width%3Ddevice-width%2C%0A%20%20%20%20%20%20%20%20%20%20%20%20%20%20%20%20initial-scale%3D1.0%2C%20maximum-scale%3D1.0%2C%20user-scalable%3Dno%22%20/%3E%0A%20%20%20%20%20%20%20%20%20%20%20%20%3Cstyle%3E%0A%20%20%20%20%20%20%20%20%20%20%20%20%20%20%20%20%23map_6ee4f40f4b714fd2933ea43b14594d45%20%7B%0A%20%20%20%20%20%20%20%20%20%20%20%20%20%20%20%20%20%20%20%20position%3A%20relative%3B%0A%20%20%20%20%20%20%20%20%20%20%20%20%20%20%20%20%20%20%20%20width%3A%20100.0%25%3B%0A%20%20%20%20%20%20%20%20%20%20%20%20%20%20%20%20%20%20%20%20height%3A%20100.0%25%3B%0A%20%20%20%20%20%20%20%20%20%20%20%20%20%20%20%20%20%20%20%20left%3A%200.0%25%3B%0A%20%20%20%20%20%20%20%20%20%20%20%20%20%20%20%20%20%20%20%20top%3A%200.0%25%3B%0A%20%20%20%20%20%20%20%20%20%20%20%20%20%20%20%20%7D%0A%20%20%20%20%20%20%20%20%20%20%20%20%3C/style%3E%0A%20%20%20%20%20%20%20%20%0A%3C/head%3E%0A%3Cbody%3E%20%20%20%20%0A%20%20%20%20%0A%20%20%20%20%20%20%20%20%20%20%20%20%3Cdiv%20class%3D%22folium-map%22%20id%3D%22map_6ee4f40f4b714fd2933ea43b14594d45%22%20%3E%3C/div%3E%0A%20%20%20%20%20%20%20%20%0A%3C/body%3E%0A%3Cscript%3E%20%20%20%20%0A%20%20%20%20%0A%20%20%20%20%20%20%20%20%20%20%20%20var%20map_6ee4f40f4b714fd2933ea43b14594d45%20%3D%20L.map%28%0A%20%20%20%20%20%20%20%20%20%20%20%20%20%20%20%20%22map_6ee4f40f4b714fd2933ea43b14594d45%22%2C%0A%20%20%20%20%20%20%20%20%20%20%20%20%20%20%20%20%7B%0A%20%20%20%20%20%20%20%20%20%20%20%20%20%20%20%20%20%20%20%20center%3A%20%5B53.0371%2C%20-103.8881%5D%2C%0A%20%20%20%20%20%20%20%20%20%20%20%20%20%20%20%20%20%20%20%20crs%3A%20L.CRS.EPSG3857%2C%0A%20%20%20%20%20%20%20%20%20%20%20%20%20%20%20%20%20%20%20%20zoom%3A%2012%2C%0A%20%20%20%20%20%20%20%20%20%20%20%20%20%20%20%20%20%20%20%20zoomControl%3A%20true%2C%0A%20%20%20%20%20%20%20%20%20%20%20%20%20%20%20%20%20%20%20%20preferCanvas%3A%20false%2C%0A%20%20%20%20%20%20%20%20%20%20%20%20%20%20%20%20%7D%0A%20%20%20%20%20%20%20%20%20%20%20%20%29%3B%0A%0A%20%20%20%20%20%20%20%20%20%20%20%20%0A%0A%20%20%20%20%20%20%20%20%0A%20%20%20%20%0A%20%20%20%20%20%20%20%20%20%20%20%20var%20tile_layer_5f086af5c8294f82b86561514d3b81b0%20%3D%20L.tileLayer%28%0A%20%20%20%20%20%20%20%20%20%20%20%20%20%20%20%20%22https%3A//%7Bs%7D.tile.openstreetmap.org/%7Bz%7D/%7Bx%7D/%7By%7D.png%22%2C%0A%20%20%20%20%20%20%20%20%20%20%20%20%20%20%20%20%7B%22attribution%22%3A%20%22Data%20by%20%5Cu0026copy%3B%20%5Cu003ca%20href%3D%5C%22http%3A//openstreetmap.org%5C%22%5Cu003eOpenStreetMap%5Cu003c/a%5Cu003e%2C%20under%20%5Cu003ca%20href%3D%5C%22http%3A//www.openstreetmap.org/copyright%5C%22%5Cu003eODbL%5Cu003c/a%5Cu003e.%22%2C%20%22detectRetina%22%3A%20false%2C%20%22maxNativeZoom%22%3A%2018%2C%20%22maxZoom%22%3A%2018%2C%20%22minZoom%22%3A%200%2C%20%22noWrap%22%3A%20false%2C%20%22opacity%22%3A%201%2C%20%22subdomains%22%3A%20%22abc%22%2C%20%22tms%22%3A%20false%7D%0A%20%20%20%20%20%20%20%20%20%20%20%20%29.addTo%28map_6ee4f40f4b714fd2933ea43b14594d45%29%3B%0A%20%20%20%20%20%20%20%20%0A%20%20%20%20%0A%20%20%20%20%20%20%20%20%20%20%20%20var%20tile_layer_8d16560fcbf84abebe58004abe1688ca%20%3D%20L.tileLayer%28%0A%20%20%20%20%20%20%20%20%20%20%20%20%20%20%20%20%22https%3A//earthengine.googleapis.com/v1alpha/projects/earthengine-legacy/maps/ea6df3bfa7c6b1ae055114e6aaea6f12-1f9907ab9ad6da2bba4ae9e71a0ad74c/tiles/%7Bz%7D/%7Bx%7D/%7By%7D%22%2C%0A%20%20%20%20%20%20%20%20%20%20%20%20%20%20%20%20%7B%22attribution%22%3A%20%22Map%20Data%20%5Cu0026copy%3B%20%5Cu003ca%20href%3D%5C%22https%3A//earthengine.google.com/%5C%22%5Cu003eGoogle%20Earth%20Engine%5Cu003c/a%5Cu003e%22%2C%20%22detectRetina%22%3A%20false%2C%20%22maxNativeZoom%22%3A%2018%2C%20%22maxZoom%22%3A%2018%2C%20%22minZoom%22%3A%200%2C%20%22noWrap%22%3A%20false%2C%20%22opacity%22%3A%201%2C%20%22subdomains%22%3A%20%22abc%22%2C%20%22tms%22%3A%20false%7D%0A%20%20%20%20%20%20%20%20%20%20%20%20%29.addTo%28map_6ee4f40f4b714fd2933ea43b14594d45%29%3B%0A%20%20%20%20%20%20%20%20%0A%3C/script%3E onload=\"this.contentDocument.open();this.contentDocument.write(    decodeURIComponent(this.getAttribute('data-html')));this.contentDocument.close();\" allowfullscreen webkitallowfullscreen mozallowfullscreen></iframe></div></div>"
      ],
      "text/plain": [
       "<folium.folium.Map at 0x7eff46de2110>"
      ]
     },
     "execution_count": 14,
     "metadata": {},
     "output_type": "execute_result"
    }
   ],
   "source": [
    "m = folium.Map(location=[53.0371,-103.8881], zoom_start=12)\n",
    "m.add_ee_layer(crop2016, {}, 'FFA')\n",
    "m"
   ]
  },
  {
   "cell_type": "code",
   "execution_count": 15,
   "id": "546adce2-8744-44dd-aa36-f835b21f93cd",
   "metadata": {},
   "outputs": [],
   "source": [
    "import json\n",
    "import geopandas as gpd"
   ]
  },
  {
   "cell_type": "code",
   "execution_count": 17,
   "id": "611de9ed-2eac-49cd-9557-f7855d84f6d6",
   "metadata": {},
   "outputs": [
    {
     "ename": "ImportError",
     "evalue": "the 'read_file' function requires the 'fiona' package, but it is not installed or does not import correctly.\nImporting fiona resulted in: libpoppler.so.91: cannot open shared object file: No such file or directory",
     "output_type": "error",
     "traceback": [
      "\u001b[0;31m---------------------------------------------------------------------------\u001b[0m",
      "\u001b[0;31mImportError\u001b[0m                               Traceback (most recent call last)",
      "\u001b[0;32m<ipython-input-17-fe02c12edf8d>\u001b[0m in \u001b[0;36m<module>\u001b[0;34m\u001b[0m\n\u001b[0;32m----> 1\u001b[0;31m \u001b[0mgpd\u001b[0m\u001b[0;34m.\u001b[0m\u001b[0mread_file\u001b[0m\u001b[0;34m(\u001b[0m\u001b[0;34m\"Kilpin.geojson\"\u001b[0m\u001b[0;34m,\u001b[0m \u001b[0mdriver\u001b[0m\u001b[0;34m=\u001b[0m\u001b[0;34m\"GeoJSON\"\u001b[0m\u001b[0;34m)\u001b[0m\u001b[0;34m\u001b[0m\u001b[0;34m\u001b[0m\u001b[0m\n\u001b[0m",
      "\u001b[0;32m~/anaconda3/envs/viztest/lib/python3.7/site-packages/geopandas/io/file.py\u001b[0m in \u001b[0;36m_read_file\u001b[0;34m(filename, bbox, mask, rows, **kwargs)\u001b[0m\n\u001b[1;32m    164\u001b[0m     \u001b[0mby\u001b[0m \u001b[0musing\u001b[0m \u001b[0mthe\u001b[0m \u001b[0mencoding\u001b[0m \u001b[0mkeyword\u001b[0m \u001b[0mparameter\u001b[0m\u001b[0;34m,\u001b[0m \u001b[0me\u001b[0m\u001b[0;34m.\u001b[0m\u001b[0mg\u001b[0m\u001b[0;34m.\u001b[0m\u001b[0;31m \u001b[0m\u001b[0;31m`\u001b[0m\u001b[0;31m`\u001b[0m\u001b[0mencoding\u001b[0m\u001b[0;34m=\u001b[0m\u001b[0;34m'utf-8'\u001b[0m\u001b[0;31m`\u001b[0m\u001b[0;31m`\u001b[0m\u001b[0;34m.\u001b[0m\u001b[0;34m\u001b[0m\u001b[0;34m\u001b[0m\u001b[0m\n\u001b[1;32m    165\u001b[0m     \"\"\"\n\u001b[0;32m--> 166\u001b[0;31m     \u001b[0m_check_fiona\u001b[0m\u001b[0;34m(\u001b[0m\u001b[0;34m\"'read_file' function\"\u001b[0m\u001b[0;34m)\u001b[0m\u001b[0;34m\u001b[0m\u001b[0;34m\u001b[0m\u001b[0m\n\u001b[0m\u001b[1;32m    167\u001b[0m     \u001b[0mfilename\u001b[0m \u001b[0;34m=\u001b[0m \u001b[0m_expand_user\u001b[0m\u001b[0;34m(\u001b[0m\u001b[0mfilename\u001b[0m\u001b[0;34m)\u001b[0m\u001b[0;34m\u001b[0m\u001b[0;34m\u001b[0m\u001b[0m\n\u001b[1;32m    168\u001b[0m \u001b[0;34m\u001b[0m\u001b[0m\n",
      "\u001b[0;32m~/anaconda3/envs/viztest/lib/python3.7/site-packages/geopandas/io/file.py\u001b[0m in \u001b[0;36m_check_fiona\u001b[0;34m(func)\u001b[0m\n\u001b[1;32m     79\u001b[0m     \u001b[0;32mif\u001b[0m \u001b[0mfiona\u001b[0m \u001b[0;32mis\u001b[0m \u001b[0;32mNone\u001b[0m\u001b[0;34m:\u001b[0m\u001b[0;34m\u001b[0m\u001b[0;34m\u001b[0m\u001b[0m\n\u001b[1;32m     80\u001b[0m         raise ImportError(\n\u001b[0;32m---> 81\u001b[0;31m             \u001b[0;34mf\"the {func} requires the 'fiona' package, but it is not installed or does \"\u001b[0m\u001b[0;34m\u001b[0m\u001b[0;34m\u001b[0m\u001b[0m\n\u001b[0m\u001b[1;32m     82\u001b[0m             \u001b[0;34mf\"not import correctly.\\nImporting fiona resulted in: {fiona_import_error}\"\u001b[0m\u001b[0;34m\u001b[0m\u001b[0;34m\u001b[0m\u001b[0m\n\u001b[1;32m     83\u001b[0m         )\n",
      "\u001b[0;31mImportError\u001b[0m: the 'read_file' function requires the 'fiona' package, but it is not installed or does not import correctly.\nImporting fiona resulted in: libpoppler.so.91: cannot open shared object file: No such file or directory"
     ]
    }
   ],
   "source": [
    "gpd.read_file(\"Kilpin.geojson\", driver=\"GeoJSON\")"
   ]
  },
  {
   "cell_type": "code",
   "execution_count": 18,
   "id": "e8b5a0d0-8202-489f-af84-12a7db7858a5",
   "metadata": {},
   "outputs": [
    {
     "data": {
      "text/plain": [
       "{'type': 'FeatureCollection',\n",
       " 'name': 'Kilpin',\n",
       " 'features': [{'type': 'Feature',\n",
       "   'properties': {'__ID42': 1223578714,\n",
       "    'Client_ID': 19,\n",
       "    'ClientName': 'Agricircle',\n",
       "    'Farm_ID': 1207,\n",
       "    'FarmName': 'Kilpin Corner',\n",
       "    'Field_ID': 1208,\n",
       "    'FieldName': 'Kilpin Corner',\n",
       "    'CropYear': None,\n",
       "    'Commod_ID': None,\n",
       "    'CommodName': None,\n",
       "    'Size': 20.71},\n",
       "   'geometry': {'type': 'MultiPolygon',\n",
       "    'coordinates': [[[[-1.58212598495861, 54.385254923349606],\n",
       "       [-1.58230099302553, 54.38524036437087],\n",
       "       [-1.582563415193707, 54.385429525951174],\n",
       "       [-1.583075848886057, 54.38588074507102],\n",
       "       [-1.583188264139731, 54.385924421310236],\n",
       "       [-1.583588282578406, 54.38590263556603],\n",
       "       [-1.583601232815629, 54.3858985507377],\n",
       "       [-1.583600693222412, 54.38588084981025],\n",
       "       [-1.584412960879361, 54.38559700549312],\n",
       "       [-1.584625380742704, 54.385611564345346],\n",
       "       [-1.585280267044509, 54.38601365894945],\n",
       "       [-1.585326672061226, 54.38601418264394],\n",
       "       [-1.585498622433246, 54.38611871193098],\n",
       "       [-1.585648629347749, 54.386209834438965],\n",
       "       [-1.585798456397846, 54.38630095674461],\n",
       "       [-1.58594846331235, 54.38639207884795],\n",
       "       [-1.586098470226853, 54.38648309601127],\n",
       "       [-1.58624829727695, 54.3865742177102],\n",
       "       [-1.586398304191453, 54.386665339206814],\n",
       "       [-1.586570254563473, 54.38676976209842],\n",
       "       [-1.586568995512632, 54.38680495370513],\n",
       "       [-1.586924947171866, 54.387023434254935],\n",
       "       [-1.587180354628215, 54.3872316495354],\n",
       "       [-1.587316871712277, 54.38731460019796],\n",
       "       [-1.587315972390247, 54.38734214564603],\n",
       "       [-1.587675161608788, 54.3876348803493],\n",
       "       [-1.587706278151005, 54.3877333309073],\n",
       "       [-1.58776059720158, 54.38776642699928],\n",
       "       [-1.587756820049057, 54.3878744080505],\n",
       "       [-1.587756280455839, 54.38789200338401],\n",
       "       [-1.587787576862462, 54.387991500663695],\n",
       "       [-1.587824988658885, 54.38818064956389],\n",
       "       [-1.587205535645038, 54.38846447601217],\n",
       "       [-1.587099775374381, 54.388523754646165],\n",
       "       [-1.586943653070078, 54.38861120618487],\n",
       "       [-1.586787530765775, 54.38869876226924],\n",
       "       [-1.586674935647695, 54.38876191564478],\n",
       "       [-1.586675295376507, 54.38877018946289],\n",
       "       [-1.585688019652637, 54.389235824689976],\n",
       "       [-1.585610138364891, 54.38927143310435],\n",
       "       [-1.58551894711111, 54.38932254159804],\n",
       "       [-1.58549844256884, 54.389322332137134],\n",
       "       [-1.584770531318248, 54.38965453579629],\n",
       "       [-1.584741573148902, 54.38967076888222],\n",
       "       [-1.584715312945643, 54.38967045469352],\n",
       "       [-1.584187590778795, 54.389809221134776],\n",
       "       [-1.583950889220658, 54.3898834740793],\n",
       "       [-1.583763470509732, 54.38989803141093],\n",
       "       [-1.582099724755352, 54.38874212131365],\n",
       "       [-1.58206267268774, 54.38871960394124],\n",
       "       [-1.582062852552146, 54.38871646198131],\n",
       "       [-1.581176480759975, 54.38810063319202],\n",
       "       [-1.580626095677985, 54.38766420607213],\n",
       "       [-1.580591741576462, 54.387643363864136],\n",
       "       [-1.580441734661959, 54.387552349274024],\n",
       "       [-1.580313851069379, 54.38747474058607],\n",
       "       [-1.580192982188628, 54.38747327429367],\n",
       "       [-1.580103049985689, 54.38747212220673],\n",
       "       [-1.579913832630705, 54.38753642955513],\n",
       "       [-1.579601408157693, 54.38767467953949],\n",
       "       [-1.579326395481104, 54.38775469674189],\n",
       "       [-1.578988969855675, 54.387762028153155],\n",
       "       [-1.578688956026669, 54.38775469674189],\n",
       "       [-1.578451535010909, 54.38773291196926],\n",
       "       [-1.57718924661045, 54.38694687193195],\n",
       "       [-1.577193743220597, 54.38694634824935],\n",
       "       [-1.57709715603464, 54.386887591020134],\n",
       "       [-1.577019814340112, 54.38684056422883],\n",
       "       [-1.576627709935296, 54.38653452219037],\n",
       "       [-1.576628429392919, 54.38651158465612],\n",
       "       [-1.576500545800339, 54.38643386926215],\n",
       "       [-1.576492451902075, 54.386428946584],\n",
       "       [-1.576470688308963, 54.3864119790505],\n",
       "       [-1.576040092921289, 54.3858232431888],\n",
       "       [-1.576041172107725, 54.38578993605078],\n",
       "       [-1.575995306684226, 54.38576207534224],\n",
       "       [-1.575895841667774, 54.385626018452506],\n",
       "       [-1.575894043023716, 54.38562067671784],\n",
       "       [-1.575896740989804, 54.385545997099634],\n",
       "       [-1.575902316786386, 54.38554610183972],\n",
       "       [-1.57590213692198, 54.385545997099634],\n",
       "       [-1.575927138074397, 54.38547320267059],\n",
       "       [-1.575995846277443, 54.385447750775],\n",
       "       [-1.576151968581746, 54.38542586003737],\n",
       "       [-1.578282822198194, 54.38569148083065],\n",
       "       [-1.579170093312395, 54.385724264350394],\n",
       "       [-1.579524785920788, 54.38571672309578],\n",
       "       [-1.579526584564847, 54.38571337142662],\n",
       "       [-1.580338852221796, 54.38571337142662],\n",
       "       [-1.581101297438317, 54.38557511483509],\n",
       "       [-1.581409405165588, 54.38546744195486],\n",
       "       [-1.581410664216429, 54.38543224920124],\n",
       "       [-1.58150707153798, 54.38543340134543],\n",
       "       [-1.581538727673415, 54.38542229886363],\n",
       "       [-1.58212598495861, 54.385254923349606]],\n",
       "      [[-1.580757036965465, 54.38667518450583],\n",
       "       [-1.580692285779349, 54.38668848612948],\n",
       "       [-1.58075595777903, 54.38670681513138],\n",
       "       [-1.580757036965465, 54.38667518450583]]]]}}]}"
      ]
     },
     "execution_count": 18,
     "metadata": {},
     "output_type": "execute_result"
    }
   ],
   "source": [
    "with open(\"Kilpin.geojson\",\"r\") as d:\n",
    "    data = json.loads(d.read())\n",
    "data"
   ]
  },
  {
   "cell_type": "code",
   "execution_count": 21,
   "id": "88e6e713-a98c-4da1-9726-1dea78f76c96",
   "metadata": {},
   "outputs": [
    {
     "data": {
      "text/html": [
       "<div>\n",
       "<style scoped>\n",
       "    .dataframe tbody tr th:only-of-type {\n",
       "        vertical-align: middle;\n",
       "    }\n",
       "\n",
       "    .dataframe tbody tr th {\n",
       "        vertical-align: top;\n",
       "    }\n",
       "\n",
       "    .dataframe thead th {\n",
       "        text-align: right;\n",
       "    }\n",
       "</style>\n",
       "<table border=\"1\" class=\"dataframe\">\n",
       "  <thead>\n",
       "    <tr style=\"text-align: right;\">\n",
       "      <th></th>\n",
       "      <th>geometry</th>\n",
       "      <th>__ID42</th>\n",
       "      <th>Client_ID</th>\n",
       "      <th>ClientName</th>\n",
       "      <th>Farm_ID</th>\n",
       "      <th>FarmName</th>\n",
       "      <th>Field_ID</th>\n",
       "      <th>FieldName</th>\n",
       "      <th>CropYear</th>\n",
       "      <th>Commod_ID</th>\n",
       "      <th>CommodName</th>\n",
       "      <th>Size</th>\n",
       "    </tr>\n",
       "  </thead>\n",
       "  <tbody>\n",
       "    <tr>\n",
       "      <th>0</th>\n",
       "      <td>MULTIPOLYGON (((-1.58213 54.38525, -1.58230 54...</td>\n",
       "      <td>1223578714</td>\n",
       "      <td>19</td>\n",
       "      <td>Agricircle</td>\n",
       "      <td>1207</td>\n",
       "      <td>Kilpin Corner</td>\n",
       "      <td>1208</td>\n",
       "      <td>Kilpin Corner</td>\n",
       "      <td>None</td>\n",
       "      <td>None</td>\n",
       "      <td>None</td>\n",
       "      <td>20.71</td>\n",
       "    </tr>\n",
       "  </tbody>\n",
       "</table>\n",
       "</div>"
      ],
      "text/plain": [
       "                                            geometry      __ID42  Client_ID  \\\n",
       "0  MULTIPOLYGON (((-1.58213 54.38525, -1.58230 54...  1223578714         19   \n",
       "\n",
       "   ClientName  Farm_ID       FarmName  Field_ID      FieldName CropYear  \\\n",
       "0  Agricircle     1207  Kilpin Corner      1208  Kilpin Corner     None   \n",
       "\n",
       "  Commod_ID CommodName   Size  \n",
       "0      None       None  20.71  "
      ]
     },
     "execution_count": 21,
     "metadata": {},
     "output_type": "execute_result"
    }
   ],
   "source": [
    "gpd.GeoDataFrame.from_features(data['features'])"
   ]
  },
  {
   "cell_type": "code",
   "execution_count": null,
   "id": "f6a72177-852b-498a-a7c8-97458d092f82",
   "metadata": {},
   "outputs": [],
   "source": []
  }
 ],
 "metadata": {
  "kernelspec": {
   "display_name": "Python 3",
   "language": "python",
   "name": "python3"
  },
  "language_info": {
   "codemirror_mode": {
    "name": "ipython",
    "version": 3
   },
   "file_extension": ".py",
   "mimetype": "text/x-python",
   "name": "python",
   "nbconvert_exporter": "python",
   "pygments_lexer": "ipython3",
   "version": "3.7.11"
  }
 },
 "nbformat": 4,
 "nbformat_minor": 5
}
